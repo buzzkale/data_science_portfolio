{
 "cells": [
  {
   "cell_type": "code",
   "execution_count": 1,
   "metadata": {
    "collapsed": true,
    "deletable": false,
    "editable": false,
    "nbgrader": {
     "grade": false,
     "locked": true,
     "solution": false
    }
   },
   "outputs": [],
   "source": [
    "import pandas as pd\n",
    "import numpy as np\n",
    "from sklearn.model_selection import KFold"
   ]
  },
  {
   "cell_type": "code",
   "execution_count": 16,
   "metadata": {},
   "outputs": [
    {
     "name": "stdout",
     "output_type": "stream",
     "text": [
      "2.331168516746062\n"
     ]
    }
   ],
   "source": [
    "abalone = pd.read_csv(\"../resource/asnlib/publicdata/abalone.csv\")\n",
    "\n",
    "from sklearn.preprocessing import StandardScaler\n",
    "\n",
    "# cutting out rings and sex from features, choosing rings as ouput\n",
    "features = ['Length','Diameter','Height','Whole weight','Shucked weight','Viscera weight','Shell weight']\n",
    "\n",
    "X = abalone[\n",
    "    ['Length','Diameter','Height','Whole weight','Shucked weight','Viscera weight','Shell weight']\n",
    "    ]\n",
    "Y = abalone[['Rings']]\n",
    "\n",
    "# turning table into matrices\n",
    "X = X.to_numpy()\n",
    "Y = Y.to_numpy()\n",
    "\n",
    "# standardizing features\n",
    "scaler = StandardScaler()\n",
    "X_stand = scaler.fit_transform(X)\n",
    "\n",
    "# adding constant\n",
    "ones = np.ones((X_stand.shape[0], 1))\n",
    "X_stand = np.hstack([X_stand, ones])\n",
    "\n",
    "# perform linear regression with cross-validation\n",
    "kf = KFold(n_splits=5, shuffle=False)\n",
    "mse = 0\n",
    "for i, (train_index, test_index) in enumerate(kf.split(X_stand)):\n",
    "    # split X_stand and Y into testing and training data\n",
    "    X_train = X_stand[train_index]\n",
    "    X_test  = X_stand[test_index]\n",
    "\n",
    "    y_train = Y[train_index]\n",
    "    y_test = Y[test_index]\n",
    "    \n",
    "    # train the model\n",
    "    w = np.dot((np.dot(np.linalg.inv(np.dot(X_train.T,X_train)),X_train.T)),y_train)\n",
    "\n",
    "    # generate predictions for the test set\n",
    "    yhat = X_test.dot(w)\n",
    "    \n",
    "    # compute RMSE\n",
    "    error = y_test - yhat\n",
    "    error_sq = error * error\n",
    "    error_sq_mu = error_sq.mean()\n",
    "    \n",
    "    mse += error_sq_mu # adding up mse for total rmse\n",
    "\n",
    "# computing overall rmse: square root sum of all mse, then divided by # of mse's (average rmse)\n",
    "ols_error = np.sqrt(mse / 5)\n",
    "\n",
    "# PRINTING RMSE\n",
    "print(ols_error)"
   ]
  },
  {
   "cell_type": "code",
   "execution_count": 17,
   "metadata": {},
   "outputs": [
    {
     "name": "stdout",
     "output_type": "stream",
     "text": [
      "2.295563430253222\n"
     ]
    }
   ],
   "source": [
    "from sklearn.preprocessing import OneHotEncoder\n",
    "\n",
    "abalone = pd.read_csv(\"../resource/asnlib/publicdata/abalone.csv\")\n",
    "\n",
    "# one hot encoding for Sex\n",
    "abalone['Sex_I'] = (abalone['Sex'] == 'I').astype(int)\n",
    "abalone['Sex_F'] = (abalone['Sex'] == 'F').astype(int)\n",
    "\n",
    "abalone = abalone.drop(['Sex'], axis=1)\n",
    "\n",
    "# choosing features\n",
    "X = abalone[\n",
    "    ['Length','Diameter','Height','Whole weight','Shucked weight','Viscera weight','Shell weight']\n",
    "    ]\n",
    "Y = abalone[['Rings']]\n",
    "# one-hot encoding without Sex_M\n",
    "onehot = abalone[['Sex_F', 'Sex_I']]\n",
    "\n",
    "# turning features into matrices\n",
    "X = X.to_numpy()\n",
    "Y = Y.to_numpy()\n",
    "onehot = onehot.to_numpy()\n",
    "\n",
    "# standardizing features (exclduing Sex)\n",
    "scaler = StandardScaler()\n",
    "X_stand = scaler.fit_transform(X)\n",
    "\n",
    "# add one hot encoding for Sex to X_stand matrix\n",
    "X_stand = np.hstack([X_stand, onehot])\n",
    "\n",
    "# adding constant\n",
    "ones = np.ones((X_stand.shape[0], 1))\n",
    "X_stand = np.hstack([X_stand, ones])\n",
    "\n",
    "# performing linear regression with cross validation\n",
    "kf = KFold(n_splits=5, shuffle=False)\n",
    "mse = 0\n",
    "for i, (train_index, test_index) in enumerate(kf.split(X_stand)):\n",
    "    # split X_stand and Y into testing and training data\n",
    "    X_train = X_stand[train_index]\n",
    "    X_test  = X_stand[test_index]\n",
    "\n",
    "    y_train = Y[train_index]\n",
    "    y_test = Y[test_index]\n",
    "    \n",
    "    # train the modelx\n",
    "    w = np.dot((np.dot(np.linalg.inv(np.dot(X_train.T,X_train)),X_train.T)),y_train)\n",
    "\n",
    "    # generate predictions for the test set\n",
    "    yhat = X_test.dot(w)\n",
    "    \n",
    "    # compute RMSE\n",
    "    error = y_test - yhat\n",
    "    error_sq = error * error\n",
    "    error_sq_mu = error_sq.mean()\n",
    "    \n",
    "    mse += error_sq_mu # adding up mse for total rmse\n",
    "\n",
    "# computing overall rmse: square root sum of all mse, then divided by # of mse's (average rmse)\n",
    "onehot_error = np.sqrt(mse / 5)\n",
    "\n",
    "# PRINTING RMSE\n",
    "print(onehot_error)\n"
   ]
  },
  {
   "cell_type": "code",
   "execution_count": 6,
   "metadata": {
    "collapsed": true,
    "deletable": false,
    "editable": false,
    "nbgrader": {
     "grade": true,
     "grade_id": "One-hot encoding",
     "locked": true,
     "points": "1",
     "solution": false
    }
   },
   "outputs": [],
   "source": [
    "# we evaulate `onehot_error` here\n",
    "\n",
    "###\n",
    "### AUTOGRADER TEST - DO NOT REMOVE\n",
    "###\n"
   ]
  },
  {
   "cell_type": "code",
   "execution_count": 18,
   "metadata": {},
   "outputs": [
    {
     "name": "stdout",
     "output_type": "stream",
     "text": [
      "2.3597584332401618\n"
     ]
    }
   ],
   "source": [
    "# PART D. in this cell, your RMSE over all points should be stored in a variable called `ridge_error`\n",
    "\n",
    "lambda_weight = 1e2\n",
    "\n",
    "###\n",
    "### YOUR CODE HERE\n",
    "###\n",
    "\n",
    "abalone = pd.read_csv(\"../resource/asnlib/publicdata/abalone.csv\")\n",
    "\n",
    "# one hot encoding for Sex\n",
    "abalone['Sex_M'] = (abalone['Sex'] == 'M').astype(int)\n",
    "abalone['Sex_F'] = (abalone['Sex'] == 'F').astype(int)\n",
    "abalone['Sex_I'] = (abalone['Sex'] == 'I').astype(int)\n",
    "\n",
    "abalone = abalone.drop(['Sex'], axis=1)\n",
    "\n",
    "# choosing features\n",
    "X = abalone[\n",
    "    ['Length','Diameter','Height','Whole weight','Shucked weight','Viscera weight','Shell weight']\n",
    "    ]\n",
    "Y = abalone[['Rings']]\n",
    "# one-hot encoding for Sex\n",
    "onehot = abalone[['Sex_M', 'Sex_F', 'Sex_I']]\n",
    "\n",
    "# turning features into matrices\n",
    "X = X.to_numpy()\n",
    "Y = Y.to_numpy()\n",
    "onehot = onehot.to_numpy()\n",
    "\n",
    "# preparing identity matrix I for ridge regression\n",
    "I = np.identity(11)\n",
    "\n",
    "# standardizing features (exclduing Sex)\n",
    "scaler = StandardScaler()\n",
    "X_stand = scaler.fit_transform(X)\n",
    "\n",
    "# add one hot encoding for Sex to X_stand matrix\n",
    "X_stand = np.hstack([X_stand, onehot])\n",
    "\n",
    "# adding constant\n",
    "ones = np.ones((X_stand.shape[0], 1))\n",
    "X_stand = np.hstack([X_stand, ones])\n",
    "\n",
    "# performing linear regression with cross validation\n",
    "kf = KFold(n_splits=5, shuffle=False)\n",
    "mse = 0\n",
    "for i, (train_index, test_index) in enumerate(kf.split(X_stand)):\n",
    "    # split X_stand and Y into testing and training data\n",
    "    X_train = X_stand[train_index]\n",
    "    X_test  = X_stand[test_index]\n",
    "\n",
    "    y_train = Y[train_index]\n",
    "    y_test = Y[test_index]\n",
    "    \n",
    "    # train the modelx\n",
    "    w = np.dot((np.dot(np.linalg.inv(np.dot(X_train.T,X_train) + np.dot(I,lambda_weight)),X_train.T)),y_train)\n",
    "\n",
    "    # generate predictions for the test set\n",
    "    yhat = X_test.dot(w)\n",
    "    \n",
    "    # compute RMSE\n",
    "    error = y_test - yhat\n",
    "    error_sq = error * error\n",
    "    error_sq_mu = error_sq.mean()\n",
    "    \n",
    "    mse += error_sq_mu # adding up mse for total rmse\n",
    "\n",
    "# computing overall rmse: square root sum of all mse, then divided by # of mse's (average rmse)\n",
    "ridge_error = np.sqrt(mse / 5)\n",
    "\n",
    "# PRINTING RMSE\n",
    "print(ridge_error)"
   ]
  },
  {
   "cell_type": "code",
   "execution_count": 53,
   "metadata": {
    "collapsed": true,
    "deletable": false,
    "editable": false,
    "nbgrader": {
     "grade": true,
     "grade_id": "Ridge regression",
     "locked": true,
     "points": "1",
     "solution": false
    }
   },
   "outputs": [],
   "source": [
    "# we evaluate `ridge_error` here\n",
    "\n",
    "###\n",
    "### AUTOGRADER TEST - DO NOT REMOVE\n",
    "###\n"
   ]
  },
  {
   "cell_type": "code",
   "execution_count": null,
   "metadata": {
    "collapsed": true
   },
   "outputs": [],
   "source": []
  }
 ],
 "metadata": {
  "kernelspec": {
   "display_name": "Python 3.8",
   "language": "python",
   "name": "python38"
  },
  "language_info": {
   "codemirror_mode": {
    "name": "ipython",
    "version": 3
   },
   "file_extension": ".py",
   "mimetype": "text/x-python",
   "name": "python",
   "nbconvert_exporter": "python",
   "pygments_lexer": "ipython3",
   "version": "3.8.7"
  }
 },
 "nbformat": 4,
 "nbformat_minor": 2
}
