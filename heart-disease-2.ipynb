{
 "cells": [
  {
   "cell_type": "code",
   "execution_count": 38,
   "metadata": {
    "collapsed": true,
    "deletable": false,
    "editable": false,
    "nbgrader": {
     "grade": false,
     "locked": true,
     "solution": false
    }
   },
   "outputs": [],
   "source": [
    "import pandas as pd\n",
    "import numpy as np\n",
    "from sklearn.neural_network import MLPClassifier\n",
    "from sklearn.model_selection import train_test_split\n",
    "from sklearn.metrics import accuracy_score, precision_score, recall_score, f1_score\n",
    "from sklearn.preprocessing import StandardScaler"
   ]
  },
  {
   "cell_type": "code",
   "execution_count": 39,
   "metadata": {
    "collapsed": true,
    "scrolled": true
   },
   "outputs": [],
   "source": [
    "from sklearn.impute import SimpleImputer\n",
    "\n",
    "data = pd.read_csv(\"../resource/asnlib/publicdata/cleveland.data.csv\")\n",
    "\n",
    "# PART 1. Clean the data as described in the document. Nothing will be auto-graded here.\n",
    "\n",
    "###\n",
    "### YOUR CODE HERE\n",
    "###\n",
    "\n",
    "# data.dtypes\n",
    "\n",
    "# taking care of missing values(using very high value to be ignored)\n",
    "imp = SimpleImputer(missing_values=np.NaN, strategy='constant', fill_value=10000)\n",
    "np_2 = imp.fit_transform(data)\n",
    "\n",
    "# back to pandas dataframe\n",
    "column_values = ['age', 'sex', 'cp', 'trestbps', 'chol', 'fbs', 'restecg', 'thalach', 'exang', 'oldpeak', \n",
    "                 'slope', 'ca', 'thal', 'num'] \n",
    "\n",
    "df_2 = pd.DataFrame(data=np_2,    \n",
    "                  columns=column_values)\n",
    "\n",
    "# converting 'num' to binary\n",
    "df_2['num'] = (df_2['num'] > 0).astype(int)\n",
    "\n",
    "df_3 = df_2\n",
    "\n",
    "# getting rid of rows with '?' value\n",
    "df_4 = df_3.replace(\"?\", np.nan).dropna()\n",
    "\n",
    "# standardizing values\n",
    "num = df_4['num'].to_numpy()\n",
    "df_5 = df_4.drop(['num'], axis=1)\n",
    "\n",
    "scaler = StandardScaler()\n",
    "df_stand = scaler.fit_transform(df_5)\n",
    "\n",
    "# split data into testing and training\n",
    "X_train, X_test, y_train, y_test = train_test_split(df_stand, num, test_size=0.1, random_state=0)"
   ]
  },
  {
   "cell_type": "code",
   "execution_count": 40,
   "metadata": {},
   "outputs": [
    {
     "name": "stdout",
     "output_type": "stream",
     "text": [
      "[0.8        0.9        0.64285714 0.75      ]\n",
      "[0.8        0.9        0.64285714 0.75      ]\n",
      "[0.73333333 0.8        0.57142857 0.66666667]\n",
      "[0.76666667 0.88888889 0.57142857 0.69565217]\n"
     ]
    },
    {
     "name": "stderr",
     "output_type": "stream",
     "text": [
      "/usr/lib/python3.7/site-packages/sklearn/neural_network/_multilayer_perceptron.py:696: ConvergenceWarning: Stochastic Optimizer: Maximum iterations (1000) reached and the optimization hasn't converged yet.\n",
      "  ConvergenceWarning,\n"
     ]
    },
    {
     "data": {
      "text/plain": [
       "array([[0.8       , 0.9       , 0.64285714, 0.75      ],\n",
       "       [0.8       , 0.9       , 0.64285714, 0.75      ],\n",
       "       [0.73333333, 0.8       , 0.57142857, 0.66666667],\n",
       "       [0.76666667, 0.88888889, 0.57142857, 0.69565217]])"
      ]
     },
     "execution_count": 40,
     "metadata": {},
     "output_type": "execute_result"
    }
   ],
   "source": [
    "# PART 2. Build the classifiers.\n",
    "# As the document describes, we expect a 4x4 Numpy array.\n",
    "# Store that in a variable called `all_models`.\n",
    "# Note: don't worry if you get a `ConvergenceWarning`.\n",
    "# Note: remember to set `random_state=0` for the train/test split AND the classifier models.\n",
    "\n",
    "###\n",
    "### YOUR CODE HERE\n",
    "###\n",
    "\n",
    "all_models = np.empty((4,4))\n",
    "\n",
    "clf = MLPClassifier(random_state=0, max_iter=1000).fit(X_train, y_train)\n",
    "\n",
    "# function for creating classifiers\n",
    "def metrics(model):\n",
    "    \n",
    "    y_pred = model.predict(X_test)\n",
    "    \n",
    "    accuracy = accuracy_score(y_test, y_pred)\n",
    "    precision = precision_score (y_test, y_pred)\n",
    "    recall = recall_score (y_test, y_pred)\n",
    "    f1 = f1_score (y_test, y_pred)\n",
    "    \n",
    "    matrix = np.array([accuracy, precision, recall, f1])\n",
    "    \n",
    "    print(matrix)\n",
    "    \n",
    "    return matrix\n",
    "\n",
    "all_models[0] = metrics(MLPClassifier(hidden_layer_sizes=(5), activation='logistic', random_state=0, max_iter=1000).fit(X_train, y_train))\n",
    "all_models[1] = metrics(MLPClassifier(hidden_layer_sizes=(10,10), activation='logistic', random_state=0, max_iter=1000).fit(X_train, y_train))\n",
    "all_models[2] = metrics(MLPClassifier(hidden_layer_sizes=(5), activation='relu', random_state=0, max_iter=1000).fit(X_train, y_train))\n",
    "all_models[3] = metrics(MLPClassifier(hidden_layer_sizes=(10,10), activation='relu', random_state=0, max_iter=1000).fit(X_train, y_train))\n",
    "\n",
    "all_models"
   ]
  },
  {
   "cell_type": "code",
   "execution_count": 41,
   "metadata": {
    "collapsed": true,
    "deletable": false,
    "editable": false,
    "nbgrader": {
     "grade": true,
     "grade_id": "part_2",
     "locked": true,
     "points": "39",
     "solution": false
    }
   },
   "outputs": [],
   "source": [
    "assert all_models.shape == (4,4)\n",
    "\n",
    "###\n",
    "### AUTOGRADER TEST - DO NOT REMOVE\n",
    "###\n"
   ]
  },
  {
   "cell_type": "code",
   "execution_count": 42,
   "metadata": {
    "collapsed": true
   },
   "outputs": [],
   "source": [
    "# PART 3. Discussion questions to be answered in a block comment in this cell.\n",
    "\n",
    "# My code produced a ConvergenceWarning, indicating that the specified number of maximum\n",
    "# iterations was not high enough for at least one of the models' optimization to converge.\n",
    "# This means that the learning has not stabilized yet. When I commented out the models which\n",
    "# have two layers of ten neurons each, this warning disappeared. This gives me cause to\n",
    "# believe that this warning can arise when a model is too complex for the given context/data.\n",
    "\n",
    "# In terms of accuracy, both the logistic models performed the best at accuracy = 0.8. This\n",
    "# score might be considered good in some cases, but in the case of predicting heart disease\n",
    "# or heart failure, it's really important to have this metric be as high as possible. Also,\n",
    "# it is hard to separate one metric from the others, since accuracy only measures how many\n",
    "# positive cases are correctly predicted. It doesn't account for the amount of heart disease\n",
    "# cases that are missed, which is crucial. Focusing on accuracy alone, I do not believe we\n",
    "# can say that it is good enough. Then given the context of the other metrics, I would say\n",
    "# that it is certainly not good enough."
   ]
  },
  {
   "cell_type": "code",
   "execution_count": 91,
   "metadata": {},
   "outputs": [
    {
     "name": "stdout",
     "output_type": "stream",
     "text": [
      "[0.83333333 0.90909091 0.71428571 0.8       ]\n"
     ]
    },
    {
     "name": "stderr",
     "output_type": "stream",
     "text": [
      "/usr/lib/python3.7/site-packages/sklearn/neural_network/_multilayer_perceptron.py:696: ConvergenceWarning: Stochastic Optimizer: Maximum iterations (1000) reached and the optimization hasn't converged yet.\n",
      "  ConvergenceWarning,\n"
     ]
    }
   ],
   "source": [
    "# PART 4 (OPTIONAL). \n",
    "# As the document describes, we expect a 1x4 Numpy array.\n",
    "# Store that in a variable called `top_model`.\n",
    "\n",
    "###\n",
    "### YOUR CODE HERE\n",
    "###\n",
    "\n",
    "top_model = np.empty((1,4))\n",
    "\n",
    "top = metrics(MLPClassifier(\n",
    "    hidden_layer_sizes=(9), \n",
    "    activation='relu', \n",
    "    random_state=0, \n",
    "    max_iter=1000).fit(X_train, y_train))\n",
    "\n",
    "top_model[0] = top\n",
    "\n",
    "# This architecture produces an accuracy score of about 0.83, which is the highest so far."
   ]
  },
  {
   "cell_type": "code",
   "execution_count": 90,
   "metadata": {
    "deletable": false,
    "editable": false,
    "nbgrader": {
     "grade": true,
     "grade_id": "part_4",
     "locked": true,
     "points": "5",
     "solution": false
    }
   },
   "outputs": [],
   "source": [
    "assert top_model.shape == (1,4)\n",
    "\n",
    "# Note: we check if the array makes sense, but we will also look at your code manually. \n",
    "\n",
    "###\n",
    "### AUTOGRADER TEST - DO NOT REMOVE\n",
    "###\n"
   ]
  },
  {
   "cell_type": "code",
   "execution_count": null,
   "metadata": {
    "collapsed": true
   },
   "outputs": [],
   "source": []
  }
 ],
 "metadata": {
  "kernelspec": {
   "display_name": "Python 3 [3.7]",
   "language": "python",
   "name": "python3"
  },
  "language_info": {
   "codemirror_mode": {
    "name": "ipython",
    "version": 3
   },
   "file_extension": ".py",
   "mimetype": "text/x-python",
   "name": "python",
   "nbconvert_exporter": "python",
   "pygments_lexer": "ipython3",
   "version": "3.7.5"
  }
 },
 "nbformat": 4,
 "nbformat_minor": 2
}
