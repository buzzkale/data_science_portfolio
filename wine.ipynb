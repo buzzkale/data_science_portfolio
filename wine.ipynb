{
 "cells": [
  {
   "cell_type": "code",
   "execution_count": 1,
   "metadata": {
    "collapsed": true,
    "deletable": false,
    "editable": false,
    "nbgrader": {
     "grade": false,
     "locked": true,
     "solution": false
    }
   },
   "outputs": [],
   "source": [
    "import pandas as pd\n",
    "import numpy as np\n",
    "import sklearn\n",
    "import sklearn.model_selection\n",
    "\n",
    "from sklearn.svm import LinearSVC\n",
    "from sklearn.neural_network import MLPClassifier\n",
    "from sklearn.linear_model import LogisticRegression\n",
    "\n",
    "from sklearn.metrics import accuracy_score"
   ]
  },
  {
   "cell_type": "code",
   "execution_count": 2,
   "metadata": {
    "collapsed": true,
    "deletable": false,
    "editable": false,
    "nbgrader": {
     "grade": false,
     "locked": true,
     "solution": false
    }
   },
   "outputs": [],
   "source": [
    "data = pd.read_csv(\"../resource/asnlib/publicdata/wine.data.csv\")\n",
    "\n",
    "target = data['label']\n",
    "data = data.drop(['label'], axis=1)\n",
    "data = data.to_numpy()\n",
    "target = target.to_numpy()"
   ]
  },
  {
   "cell_type": "code",
   "execution_count": 3,
   "metadata": {
    "collapsed": true,
    "nbgrader": {
     "grade": false,
     "locked": false,
     "solution": false
    }
   },
   "outputs": [],
   "source": [
    "# Training \n",
    "\n",
    "def train(X_train, y_train):\n",
    "    # create SVMs\n",
    "    svm = LinearSVC(random_state=0)\n",
    "    svm.fit(X_train, y_train)\n",
    "    \n",
    "    mlp = MLPClassifier(random_state=0)\n",
    "    mlp.fit(X_train, y_train)\n",
    "    \n",
    "    return svm, mlp # return the trained models"
   ]
  },
  {
   "cell_type": "code",
   "execution_count": 5,
   "metadata": {
    "collapsed": true
   },
   "outputs": [],
   "source": [
    "# Predicting\n",
    "\n",
    "def predict(X_valid, svm, mlp):\n",
    "    svm_pred = svm.predict(X_valid)\n",
    "    mlp_pred = mlp.predict(X_valid)\n",
    "    \n",
    "    features = np.column_stack((svm_pred, mlp_pred))\n",
    "\n",
    "    return features # return the models' predictions as a matrix"
   ]
  },
  {
   "cell_type": "code",
   "execution_count": 7,
   "metadata": {
    "collapsed": true
   },
   "outputs": [],
   "source": [
    "# Meta-learning\n",
    "\n",
    "def meta_learn(features, y_valid):\n",
    "    logistic = LogisticRegression(random_state=0).fit(features, y_valid)\n",
    "\n",
    "    return logistic # return the logistic model"
   ]
  },
  {
   "cell_type": "code",
   "execution_count": 10,
   "metadata": {
    "collapsed": true
   },
   "outputs": [],
   "source": [
    "# Ensembling\n",
    "\n",
    "def ensemble_predict(X_test, y_test, svm, mlp, logistic):\n",
    "    svm_pred = svm.predict(X_test)\n",
    "    mlp_pred = mlp.predict(X_test)\n",
    "    features = np.column_stack((svm_pred, mlp_pred))\n",
    "    logistic_pred = logistic.predict(features)\n",
    "\n",
    "    svm_acc = accuracy_score(y_test, svm_pred)\n",
    "    mlp_acc = accuracy_score(y_test, mlp_pred)\n",
    "    logistic_acc = accuracy_score(y_test, logistic_pred)\n",
    "\n",
    "    return svm_acc, mlp_acc, logistic_acc # return the accuracies"
   ]
  },
  {
   "cell_type": "code",
   "execution_count": 11,
   "metadata": {
    "nbgrader": {
     "grade": false,
     "grade_id": "All Together",
     "locked": false,
     "points": "20",
     "solution": false
    }
   },
   "outputs": [
    {
     "name": "stderr",
     "output_type": "stream",
     "text": [
      
     ]
    }
   ],
   "source": [
    "# All together\n",
    "performances = []\n",
    "\n",
    "kf = sklearn.model_selection.KFold(10, shuffle=False)\n",
    "for rest_index, test_index in kf.split(data):\n",
    "    ## Train/test split\n",
    "    midpoint = int(len(rest_index)/2)\n",
    "    \n",
    "    X_train = data[rest_index[0:midpoint]]\n",
    "    y_train = target[rest_index[0:midpoint]]\n",
    "\n",
    "    X_valid = data[rest_index[midpoint:]]\n",
    "    y_valid = target[rest_index[midpoint:]]\n",
    "    \n",
    "    X_test = data[test_index]\n",
    "    y_test = target[test_index]\n",
    "\n",
    "    ## Training\n",
    "    svm, mlp = train(X_train, y_train)\n",
    "\n",
    "    ## Predicting\n",
    "    features = predict(X_valid, svm, mlp)\n",
    "    \n",
    "    logistic = meta_learn(features, y_valid)\n",
    "\n",
    "    ## Ensembling\n",
    "    accuracies = ensemble_predict(X_test, y_test, svm, mlp, logistic)\n",
    "\n",
    "    performances.append(accuracies)\n",
    "\n",
    "avg_accs = np.array(performances).mean(axis=0)\n"
   ]
  },
  {
   "cell_type": "code",
   "execution_count": null,
   "metadata": {
    "collapsed": true
   },
   "outputs": [],
   "source": []
  }
 ],
 "metadata": {
  "kernelspec": {
   "display_name": "Python 3 [3.7]",
   "language": "python",
   "name": "python3"
  },
  "language_info": {
   "codemirror_mode": {
    "name": "ipython",
    "version": 3
   },
   "file_extension": ".py",
   "mimetype": "text/x-python",
   "name": "python",
   "nbconvert_exporter": "python",
   "pygments_lexer": "ipython3",
   "version": "3.7.5"
  }
 },
 "nbformat": 4,
 "nbformat_minor": 2
}
