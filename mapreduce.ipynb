{
 "cells": [
  {
   "cell_type": "code",
   "execution_count": 1,
   "metadata": {
    "collapsed": true,
    "deletable": false,
    "editable": false,
    "nbgrader": {
     "grade": false,
     "locked": true,
     "solution": false
    }
   },
   "outputs": [],
   "source": [
    "import pandas as pd\n",
    "import numpy as np\n",
    "from itertools import combinations\n",
    "from collections import Counter\n",
    "import random"
   ]
  },
  {
   "cell_type": "code",
   "execution_count": 2,
   "metadata": {
    "collapsed": true,
    "deletable": false,
    "editable": false,
    "nbgrader": {
     "grade": false,
     "locked": true,
     "solution": false
    }
   },
   "outputs": [],
   "source": [
    "example_data = open(\"../resource/asnlib/publicdata/small.txt\").read().split(\"\\n\")"
   ]
  },
  {
   "cell_type": "code",
   "execution_count": 3,
   "metadata": {
    "collapsed": true
   },
   "outputs": [],
   "source": [
    "# Implement the mapper in the candidate generation stage\n",
    "\n",
    "#     combinations = sort(list(combinations(all_items, item_set_size))\n",
    "\n",
    "\n",
    "def map_step_1(data, num_maps, support_thresh, item_set_size):\n",
    "    \n",
    "    # initial variables\n",
    "    frequent_item_sets = []\n",
    "    c = Counter()\n",
    "    \n",
    "    # get itemsets for each basket\n",
    "    for i in data:\n",
    "        # parse string\n",
    "        if i != '':\n",
    "            basket = i.split(':')[1]\n",
    "            items = basket.split(',')\n",
    "            items = sorted(list(set(items)))\n",
    "            \n",
    "            # only check if basket size is compatible with itemset size\n",
    "            if len(items) >= item_set_size:\n",
    "                c.update(combinations(items, item_set_size))\n",
    "    \n",
    "    # create new threshold\n",
    "    new_thresh = support_thresh/num_maps\n",
    "    \n",
    "    # add frequent itemset to tuple if number of occurrences is greater than threshold\n",
    "    for item_set, count in c.items():\n",
    "        if count >= new_thresh:\n",
    "            frequent_item_sets.append((item_set, 1))\n",
    "            \n",
    "    return frequent_item_sets"
   ]
  },
  {
   "cell_type": "code",
   "execution_count": 5,
   "metadata": {
    "collapsed": true
   },
   "outputs": [],
   "source": [
    "# Implement the reducer in the candidate generation stage\n",
    "\n",
    "def reduce_step_1(data):\n",
    "    candidates = []\n",
    "    c = Counter(data)\n",
    "    \n",
    "    # getting counts of how many times the key appears\n",
    "    for item_set, count in c:\n",
    "        if count >= 1:\n",
    "            candidates.append(item_set)\n",
    "    \n",
    "    return candidates"
   ]
  },
  {
   "cell_type": "code",
   "execution_count": 7,
   "metadata": {
    "collapsed": true
   },
   "outputs": [],
   "source": [
    "# Implement the mapper in the true frequent itemset stage\n",
    "\n",
    "def map_step_2(data, candidates):\n",
    "    # initial variables\n",
    "    true_frequent_item_sets = []\n",
    "    c = Counter()\n",
    "    \n",
    "    # loop through data\n",
    "    for i in data:\n",
    "        \n",
    "        # parse and turn to sets to use issubset\n",
    "        if i != '':\n",
    "            basket = i.split(':')[1]\n",
    "            items_set = set(basket.split(','))\n",
    "            \n",
    "            # loop through candidates\n",
    "            for candidate in candidates:\n",
    "                candidate_set = set(candidate)\n",
    "                \n",
    "                # check if candidate is in itemset, then update counter with tuple so that Counter counts the whole set\n",
    "                if candidate_set.issubset(items_set):\n",
    "                    c.update([tuple(candidate)])\n",
    "    \n",
    "    \n",
    "    # add frequent itemset to tuple (itemset, count)\n",
    "    for item_set, count in c.items():\n",
    "        true_frequent_item_sets.append((item_set, count))\n",
    "            \n",
    "    return true_frequent_item_sets"
   ]
  },
  {
   "cell_type": "code",
   "execution_count": 1,
   "metadata": {
    "collapsed": true
   },
   "outputs": [],
   "source": [
    "\n",
    "def reduce_step_2(data, support_thresh):\n",
    "    \n",
    "    truly_frequent_item_sets = []\n",
    "    c = Counter()\n",
    "    \n",
    "    # getting counts of how many times the key appears\n",
    "    for item_set, count in data:\n",
    "        c[item_set] += count\n",
    "    \n",
    "    for item_set, count in c.items():\n",
    "        if count >= support_thresh:\n",
    "            truly_frequent_item_sets.append(item_set)\n",
    "    \n",
    "    return truly_frequent_item_sets"
   ]
  },
  {
   "cell_type": "code",
   "execution_count": null,
   "metadata": {
    "collapsed": true
   },
   "outputs": [],
   "source": []
  }
 ],
 "metadata": {
  "kernelspec": {
   "display_name": "Python 3 [3.7]",
   "language": "python",
   "name": "python3"
  },
  "language_info": {
   "codemirror_mode": {
    "name": "ipython",
    "version": 3
   },
   "file_extension": ".py",
   "mimetype": "text/x-python",
   "name": "python",
   "nbconvert_exporter": "python",
   "pygments_lexer": "ipython3",
   "version": "3.7.5"
  }
 },
 "nbformat": 4,
 "nbformat_minor": 2
}
