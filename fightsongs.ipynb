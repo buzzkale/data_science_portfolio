{
 "cells": [
  {
   "cell_type": "code",
   "execution_count": 5,
   "metadata": {
    "collapsed": true,
    "deletable": false,
    "editable": false,
    "nbgrader": {
     "grade": false,
     "locked": true,
     "solution": false
    }
   },
   "outputs": [],
   "source": [
    "import pandas as pd\n",
    "import numpy as np\n",
    "from sklearn.cluster import KMeans\n",
    "from sklearn.tree import DecisionTreeClassifier"
   ]
  },
  {
   "cell_type": "code",
   "execution_count": 6,
   "metadata": {
    "collapsed": true
   },
   "outputs": [],
   "source": [
    "# PART A: in this cell, you should implement the `cluster` function\n",
    "#   we ask that you set `random_state=0` to keep the function deterministic\n",
    "\n",
    "from sklearn.preprocessing import StandardScaler\n",
    "\n",
    "numerical_features = [\n",
    "    'bpm', 'sec_duration',  'number_fights', 'trope_count' ]\n",
    "\n",
    "binary_features = [\n",
    "    'student_writer', 'official_song', 'contest', 'fight',\n",
    "    'victory', 'win_won', 'victory_win_won', 'rah',\n",
    "    'nonsense', 'colors', 'men', 'opponents', 'spelling' ]\n",
    "\n",
    "def cluster(df, n_clusters):\n",
    "###\n",
    "### YOUR CODE HERE\n",
    "###\n",
    "\n",
    "    # dropping non-numerical and non-binary columns\n",
    "    df = df.drop([\n",
    "        'school', 'conference', 'song_name', 'writers', 'year', 'spotify_id'], axis=1)\n",
    "    # binary columns\n",
    "    tobe_binary = df[['student_writer', 'official_song', 'contest', 'fight',\n",
    "        'victory', 'win_won', 'victory_win_won', 'rah',\n",
    "        'nonsense', 'colors', 'men', 'opponents', 'spelling']]\n",
    "    #non-binary columns\n",
    "    non_binary = df.drop([\n",
    "        'student_writer', 'official_song', 'contest', 'fight',\n",
    "        'victory', 'win_won', 'victory_win_won', 'rah',\n",
    "        'nonsense', 'colors', 'men', 'opponents', 'spelling'], axis=1)\n",
    "\n",
    "    # binary columns -> binary values (get yes column, drop no and unknown columns)\n",
    "    binary = pd.get_dummies(tobe_binary)\n",
    "    binary = binary.drop([\n",
    "        'official_song_No', 'contest_No', 'fight_No', 'victory_No', 'win_won_No', \n",
    "        'victory_win_won_No', 'rah_No', 'nonsense_No', 'colors_No', 'men_No', 'opponents_No', \n",
    "        'spelling_No', 'student_writer_No', 'student_writer_Unknown'], axis=1)\n",
    "    \n",
    "    # adding binary to standardized nonbinary values\n",
    "    df_2 = np.hstack([non_binary, binary])\n",
    "\n",
    "    # standardizing\n",
    "    scaler = StandardScaler()\n",
    "    df_2 = scaler.fit_transform(df_2)\n",
    "\n",
    "    # perform kmeans learning\n",
    "    kmeans = KMeans(n_clusters=n_clusters, random_state=0)\n",
    "    kmeans.fit(df_2)\n",
    "    \n",
    "    return kmeans"
   ]
  },
  {
   "cell_type": "code",
   "execution_count": 7,
   "metadata": {
    "collapsed": true,
    "deletable": false,
    "editable": false,
    "nbgrader": {
     "grade": true,
     "grade_id": "Clustering",
     "locked": true,
     "points": "40",
     "solution": false
    }
   },
   "outputs": [],
   "source": [
    "df = pd.read_csv(\"../resource/asnlib/publicdata/fight-songs.csv\")\n",
    "clustering = cluster(df, 5)\n",
    "\n",
    "assert isinstance(clustering, KMeans)\n",
    "\n",
    "###\n",
    "### AUTOGRADER TEST - DO NOT REMOVE\n",
    "###\n"
   ]
  },
  {
   "cell_type": "code",
   "execution_count": 10,
   "metadata": {},
   "outputs": [
    {
     "data": {
      "image/png": "[encoded data removed]",
      "text/plain": [
       "<Figure size 432x288 with 1 Axes>"
      ]
     },
     "metadata": {
      "needs_background": "light"
     },
     "output_type": "display_data"
    }
   ],
   "source": [
    "# PART B: in this cell, you should implement the `discover_optimal_k` function\n",
    "#   it should plot the \"knee plot\" using matplotlib and also return the array of errors\n",
    "\n",
    "from matplotlib import pyplot as plt\n",
    "\n",
    "def discover_optimal_k(df):\n",
    "###\n",
    "### YOUR CODE HERE\n",
    "###\n",
    "    # dropping non-numerical and non-binary columns\n",
    "    df = df.drop([\n",
    "        'school', 'conference', 'song_name', 'writers', 'year', 'spotify_id'], axis=1)\n",
    "    # binary columns\n",
    "    tobe_binary = df[['student_writer', 'official_song', 'contest', 'fight',\n",
    "        'victory', 'win_won', 'victory_win_won', 'rah',\n",
    "        'nonsense', 'colors', 'men', 'opponents', 'spelling']]\n",
    "    #non-binary columns\n",
    "    non_binary = df.drop([\n",
    "        'student_writer', 'official_song', 'contest', 'fight',\n",
    "        'victory', 'win_won', 'victory_win_won', 'rah',\n",
    "        'nonsense', 'colors', 'men', 'opponents', 'spelling'], axis=1)\n",
    "\n",
    "    # binary columns -> binary values (get yes column, drop no and unknown columns)\n",
    "    binary = pd.get_dummies(tobe_binary)\n",
    "    binary = binary.drop([\n",
    "        'official_song_No', 'contest_No', 'fight_No', 'victory_No', 'win_won_No', \n",
    "        'victory_win_won_No', 'rah_No', 'nonsense_No', 'colors_No', 'men_No', 'opponents_No', \n",
    "        'spelling_No', 'student_writer_No', 'student_writer_Unknown'], axis=1)\n",
    "    \n",
    "    # adding binary to standardized nonbinary values\n",
    "    df_2 = np.hstack([non_binary, binary])\n",
    "\n",
    "    # standardizing\n",
    "    scaler = StandardScaler()\n",
    "    df_2 = scaler.fit_transform(df_2)\n",
    "\n",
    "    # perform kmeans learning\n",
    "    kmeans = KMeans(random_state=0)\n",
    "    kmeans.fit(df_2)\n",
    "    \n",
    "    sse = []\n",
    "    for k in range(1, 21):\n",
    "        kmeans = KMeans(n_clusters=k, random_state=0)\n",
    "        kmeans.fit(df_2)\n",
    "        sse.append(kmeans.inertia_)\n",
    "\n",
    "    #visualize results\n",
    "    plt.plot(range(1, 21), sse, marker='o')\n",
    "    plt.xticks(range(1, 21))\n",
    "    plt.xlabel(\"Number of Clusters\")\n",
    "    plt.ylabel(\"SSE\")\n",
    "    plt.show()\n",
    "    \n",
    "    return np.array(sse)\n",
    "\n",
    "discover_optimal_k(df);"
   ]
  },
  {
   "cell_type": "code",
   "execution_count": null,
   "metadata": {
    "collapsed": true,
    "deletable": false,
    "editable": false,
    "nbgrader": {
     "grade": true,
     "grade_id": "Knee",
     "locked": true,
     "points": "30",
     "solution": false
    }
   },
   "outputs": [],
   "source": [
    "assert isinstance(discover_optimal_k(df), np.ndarray)\n",
    "\n",
    "###\n",
    "### AUTOGRADER TEST - DO NOT REMOVE\n",
    "###\n"
   ]
  },
  {
   "cell_type": "code",
   "execution_count": 1,
   "metadata": {
    "collapsed": true
   },
   "outputs": [],
   "source": [
    "# PART C. in this cell, you should implement the `decision_tree` function\n",
    "#   where applicable, we ask that you set `random_state=0` to keep the function deterministic\n",
    "\n",
    "def decision_tree(df, kmeans):\n",
    "###\n",
    "### YOUR CODE HERE\n",
    "###\n",
    "\n",
    "    # dropping non-numerical and non-binary columns\n",
    "    df = df.drop([\n",
    "        'school', 'conference', 'song_name', 'writers', 'year', 'spotify_id'], axis=1)\n",
    "    # binary columns\n",
    "    tobe_binary = df[['student_writer', 'official_song', 'contest', 'fight',\n",
    "        'victory', 'win_won', 'victory_win_won', 'rah',\n",
    "        'nonsense', 'colors', 'men', 'opponents', 'spelling']]\n",
    "    #non-binary columns\n",
    "    non_binary = df.drop([\n",
    "        'student_writer', 'official_song', 'contest', 'fight',\n",
    "        'victory', 'win_won', 'victory_win_won', 'rah',\n",
    "        'nonsense', 'colors', 'men', 'opponents', 'spelling'], axis=1)\n",
    "\n",
    "    # binary columns -> binary values (get yes column, drop no and unknown columns)\n",
    "    binary = pd.get_dummies(tobe_binary)\n",
    "    binary = binary.drop([\n",
    "        'official_song_No', 'contest_No', 'fight_No', 'victory_No', 'win_won_No', \n",
    "        'victory_win_won_No', 'rah_No', 'nonsense_No', 'colors_No', 'men_No', 'opponents_No', \n",
    "        'spelling_No', 'student_writer_No', 'student_writer_Unknown'], axis=1)\n",
    "    \n",
    "    # adding binary to standardized nonbinary values\n",
    "    df_2 = np.hstack([non_binary, binary])\n",
    "\n",
    "    # standardizing\n",
    "    scaler = StandardScaler()\n",
    "    df_2 = scaler.fit_transform(df_2)\n",
    "    \n",
    "    # decision tree\n",
    "    labels = kmeans.labels_\n",
    "    clf = DecisionTreeClassifier(criterion='entropy')\n",
    "    clf.fit(df_2, labels)\n",
    "    \n",
    "    print(kmeans)\n",
    "    \n",
    "    return clf"
   ]
  },
  {
   "cell_type": "code",
   "execution_count": 23,
   "metadata": {
    "deletable": false,
    "editable": false,
    "nbgrader": {
     "grade": true,
     "grade_id": "Decision tree",
     "locked": true,
     "points": "40",
     "solution": false
    }
   },
   "outputs": [
    {
     "name": "stdout",
     "output_type": "stream",
     "text": [
      "KMeans(n_clusters=5, random_state=0)\n"
     ]
    }
   ],
   "source": [
    "assert isinstance(decision_tree(df, cluster(df, 5)), DecisionTreeClassifier)\n",
    "\n",
    "###\n",
    "### AUTOGRADER TEST - DO NOT REMOVE\n",
    "###\n"
   ]
  },
  {
   "cell_type": "code",
   "execution_count": null,
   "metadata": {
    "collapsed": true
   },
   "outputs": [],
   "source": []
  }
 ],
 "metadata": {
  "kernelspec": {
   "display_name": "Python 3.8",
   "language": "python",
   "name": "python38"
  },
  "language_info": {
   "codemirror_mode": {
    "name": "ipython",
    "version": 3
   },
   "file_extension": ".py",
   "mimetype": "text/x-python",
   "name": "python",
   "nbconvert_exporter": "python",
   "pygments_lexer": "ipython3",
   "version": "3.8.7"
  }
 },
 "nbformat": 4,
 "nbformat_minor": 2
}
